{
 "cells": [
  {
   "cell_type": "code",
   "execution_count": 5,
   "metadata": {},
   "outputs": [],
   "source": [
    "from sympy import symbols, sin, cos, pi, pprint, simplify, atan2, sqrt, atan\n",
    "from sympy.matrices import Matrix, Transpose\n",
    "from IPython.display import display\n",
    "import ipywidgets as widgets\n",
    "from functools import reduce\n",
    "import numpy as np\n",
    "from importlib import reload"
   ]
  },
  {
   "cell_type": "code",
   "execution_count": 11,
   "metadata": {},
   "outputs": [
    {
     "name": "stdout",
     "output_type": "stream",
     "text": [
      "wc_pos\n",
      "⎡-1.16693608404 ⎤\n",
      "⎢               ⎥\n",
      "⎢-0.17988319325 ⎥\n",
      "⎢               ⎥\n",
      "⎣0.8513793265916⎦\n",
      "computed wc_pos\n",
      "⎡-1.16703264412961 ⎤\n",
      "⎢                  ⎥\n",
      "⎢-0.179898077987474⎥\n",
      "⎢                  ⎥\n",
      "⎣0.850575517883546 ⎦\n",
      "R0_EE\n",
      "⎡-0.72397332    -0.67724501   -0.1303720228  -1.3863⎤\n",
      "⎢                                                   ⎥\n",
      "⎢ 0.66212275   -0.629614545   -0.4061837552  0.02074⎥\n",
      "⎢                                                   ⎥\n",
      "⎢0.1930055228  -0.3804352448   0.904437135   0.90986⎥\n",
      "⎢                                                   ⎥\n",
      "⎣     0              0              0           1   ⎦\n",
      "computed R0_EE\n",
      "⎡-0.724039116899804  -0.677330782557284  -0.130347106601142  -1.20652781742976\n",
      "⎢                                                                             \n",
      "⎢0.662196784866248   -0.629696246463963  -0.406174907277641  -0.30296907489259\n",
      "⎢                                                                             \n",
      "⎢0.193035684037319   -0.380401956080057  0.904450980705262    1.12462416503724\n",
      "⎢                                                                             \n",
      "⎣        0                   0                   0                   1        \n",
      "\n",
      " ⎤\n",
      " ⎥\n",
      "9⎥\n",
      " ⎥\n",
      " ⎥\n",
      " ⎥\n",
      " ⎦\n"
     ]
    },
    {
     "data": {
      "text/plain": [
       "Matrix([\n",
       "[ -2.98864652138354],\n",
       "[-0.115711289482777],\n",
       "[ 0.943375365959017],\n",
       "[  2.67223386216161],\n",
       "[  2.13762992819175],\n",
       "[ -1.24029704400537]])"
      ]
     },
     "execution_count": 11,
     "metadata": {},
     "output_type": "execute_result"
    }
   ],
   "source": [
    "import kuka_arm.scripts.inverse_kinematics as ik\n",
    "reload(ik)\n",
    "\n",
    "test_cases = {1:[[[2.16135,-1.42635,1.55109],\n",
    "                  [0.708611,0.186356,-0.157931,0.661967]],\n",
    "                  [1.89451,-1.44302,1.69366],\n",
    "                  [-0.65,0.45,-0.36,0.95,0.79,0.49]],\n",
    "              2:[[[-0.56754,0.93663,3.0038],\n",
    "                  [0.62073, 0.48318,0.38759,0.480629]],\n",
    "                  [-0.638,0.64198,2.9988],\n",
    "                  [-0.79,-0.11,-2.33,1.94,1.14,-3.68]],\n",
    "              3:[[[-1.3863,0.02074,0.90986],\n",
    "                  [0.01735,-0.2179,0.9025,0.371016]],\n",
    "                  [-1.1669,-0.17989,0.85137],\n",
    "                  [-2.99,-0.12,0.94,4.06,1.29,-4.12]],\n",
    "              4:[],\n",
    "              5:[]}\n",
    "\n",
    "ik.SolveIK(*test_cases[3][0])"
   ]
  },
  {
   "cell_type": "code",
   "execution_count": null,
   "metadata": {},
   "outputs": [],
   "source": [
    "def DHTransform(alpha, a, q, d):\n",
    "  return Matrix([\n",
    "    [cos(q),            -sin(q),           0,           a],\n",
    "    [sin(q)*cos(alpha), cos(q)*cos(alpha), -sin(alpha), -sin(alpha)*d],\n",
    "    [sin(q)*sin(alpha), cos(q)*sin(alpha), cos(alpha),  cos(alpha)*d ],\n",
    "    [0,                 0,                 0,           1            ]])\n",
    "\n",
    "q1, q2, q3, q4, q5, q6 = symbols('q1:7')\n",
    "alpha = [0, -pi/2, 0, -pi/2, pi/2, -pi/2, 0] #symbols('alpha0:7')\n",
    "a = symbols('a0:7')\n",
    "d1, d2, d3, d4, d5, d6, d_ee = symbols('d1:7,d_ee')\n",
    "\n",
    "constants = dict(\n",
    "  list(zip(a, [0, 0.35, 1.25, -0.054, 0, 0, 0])) +\n",
    "  list(zip([d1, d2, d3, d4, d5, d6, d_ee], [0.75, 0, 0, 1.5, 0, 0, 0.303])))\n",
    "\n",
    "T0_1 = DHTransform(alpha[0], a[0], q1, d1)\n",
    "T1_2 = DHTransform(alpha[1], a[1], q2 - pi/2, d2)\n",
    "T2_3 = DHTransform(alpha[2], a[2], q3, d3)\n",
    "T3_4 = DHTransform(alpha[3], a[3], q4, d4)\n",
    "T4_5 = DHTransform(alpha[4], a[4], q5, d5)\n",
    "T5_6 = DHTransform(alpha[5], a[5], q6, d6)\n",
    "T6_EE = DHTransform(alpha[6], a[6], 0, d_ee)\n",
    "\n",
    "# def e(q11, q22, q33, q44, q55, q66):\n",
    "#   subs = {q1: q11, q2: q22, q3: q33, q4: q44, q5: q55, q6: q66}\n",
    "#   subs.update(constants)\n",
    "#   return pprint(mat.evalf(subs=subs, prec = 5))\n",
    "\n",
    "# spec = (-3.14,3.14,0.01)\n",
    "# widgets.interact(e, q11=spec, q22=spec, q33=spec, q44=spec, q55=spec, q66=spec)"
   ]
  },
  {
   "cell_type": "code",
   "execution_count": null,
   "metadata": {
    "scrolled": true
   },
   "outputs": [],
   "source": [
    "mat = reduce(lambda acc, M: simplify(acc * M), [T0_1,T1_2,T2_3,T3_4,T4_5,T5_6,T6_EE])\n",
    "subs = {q1: 2.86, q2: 0, q3: 0, q4:0 , q5: 0, q6: 0}\n",
    "subs.update(constants)\n",
    "mat.evalf(subs=subs, prec = 5)"
   ]
  },
  {
   "cell_type": "code",
   "execution_count": 2,
   "metadata": {},
   "outputs": [],
   "source": [
    "def DHTransform(alpha, a, q, d):\n",
    "  return Matrix([\n",
    "    [cos(q),            -sin(q),           0,           a],\n",
    "    [sin(q)*cos(alpha), cos(q)*cos(alpha), -sin(alpha), -sin(alpha)*d],\n",
    "    [sin(q)*sin(alpha), cos(q)*sin(alpha), cos(alpha),  cos(alpha)*d ],\n",
    "    [0,                 0,                 0,           1            ]])\n",
    "\n",
    "q1, q2, q3, q4, q5, q6 = symbols('q1:7')\n",
    "alpha = [0, -pi/2, 0, -pi/2, pi/2, -pi/2, 0]\n",
    "a = [0, 0.35, 1.25, -0.054, 0, 0, 0]\n",
    "d1, d2, d3, d4, d5, d6, d_ee = [0.75, 0, 0, 1.5, 0, 0, 0.303]\n",
    "\n",
    "T0_1 = DHTransform(alpha[0], a[0], q1, d1)\n",
    "T1_2 = DHTransform(alpha[1], a[1], q2 - pi/2, d2)\n",
    "T2_3 = DHTransform(alpha[2], a[2], q3, d3)\n",
    "T3_4 = DHTransform(alpha[3], a[3], q4, d4)\n",
    "T4_5 = DHTransform(alpha[4], a[4], q5, d5)\n",
    "T5_6 = DHTransform(alpha[5], a[5], q6, d6)\n",
    "T6_EE = DHTransform(alpha[6], a[6], 0, d_ee)"
   ]
  },
  {
   "cell_type": "code",
   "execution_count": 86,
   "metadata": {},
   "outputs": [
    {
     "name": "stdout",
     "output_type": "stream",
     "text": [
      "⎡-1.1796e-16  -5.8981e-17      1.0         1.85    ⎤\n",
      "⎢                                                  ⎥\n",
      "⎢5.8981e-17      -1.0      -5.8981e-17  -1.0911e-16⎥\n",
      "⎢                                                  ⎥\n",
      "⎢    1.0      5.8981e-17   1.1796e-16      1.946   ⎥\n",
      "⎢                                                  ⎥\n",
      "⎣     0            0            0           1.0    ⎦\n"
     ]
    },
    {
     "data": {
      "text/plain": [
       "<function __main__.e>"
      ]
     },
     "execution_count": 86,
     "metadata": {},
     "output_type": "execute_result"
    }
   ],
   "source": [
    "def e(q11, q22, q33, q44, q55, q66, joints):\n",
    "  mat = reduce(lambda acc, M: acc * M, [T1_2,T2_3,T3_4,T4_5,T5_6,T6_EE][:(joints-1)], T0_1)\n",
    "  return pprint(mat.evalf(subs={q1: q11, q2: q22, q3: q33, q4: q44, q5: q55, q6: q66}, prec = 5))\n",
    "\n",
    "spec = (-3.14,3.14,0.01)\n",
    "widgets.interact(e, q11=spec, q22=spec, q33=spec, q44=spec, q55=spec, q66=spec, joints=(2,7))"
   ]
  },
  {
   "cell_type": "code",
   "execution_count": 3,
   "metadata": {},
   "outputs": [],
   "source": [
    "def rot_x(q):\n",
    "    R_x = Matrix([[ 1,              0,        0],\n",
    "                  [ 0,         cos(q),  -sin(q)],\n",
    "                  [ 0,         sin(q),  cos(q)]])\n",
    "    \n",
    "    return R_x\n",
    "    \n",
    "def rot_y(q):              \n",
    "    R_y = Matrix([[ cos(q),        0,  sin(q)],\n",
    "                  [      0,        1,       0],\n",
    "                  [-sin(q),        0, cos(q)]])\n",
    "    \n",
    "    return R_y\n",
    "\n",
    "def rot_z(q):    \n",
    "    R_z = Matrix([[ cos(q),  -sin(q),       0],\n",
    "                  [ sin(q),   cos(q),       0],\n",
    "                  [      0,        0,       1]])\n",
    "    \n",
    "    return R_z\n",
    "\n",
    "def quat2mat(quat):\n",
    "    ''' Symbolic conversion from quaternion to rotation matrix\n",
    "    For a unit quaternion\n",
    "    \n",
    "    From: http://en.wikipedia.org/wiki/Rotation_matrix#Quaternion\n",
    "    Originally from: https://github.com/matthew-brett/transforms3d\n",
    "    '''\n",
    "    x, y, z, w = quat\n",
    "    return Matrix([\n",
    "            [1 - 2*y*y-2*z*z, 2*x*y - 2*z*w, 2*x*z+2*y*w],\n",
    "            [2*x*y+2*z*w, 1-2*x*x-2*z*z, 2*y*z-2*x*w],\n",
    "            [2*x*z-2*y*w, 2*y*z+2*x*w, 1-2*x*x-2*y*y]])\n",
    "\n",
    "def joinz(R, T):\n",
    "  return R.row_join(T).col_join(Matrix([[0,0,0,1]]))\n"
   ]
  },
  {
   "cell_type": "code",
   "execution_count": 88,
   "metadata": {},
   "outputs": [
    {
     "data": {
      "text/plain": [
       "([0.3631, -0.012039, 3.4913], [-0.69656, -0.098579, -0.38459, 0.59765])"
      ]
     },
     "execution_count": 88,
     "metadata": {},
     "output_type": "execute_result"
    }
   ],
   "source": [
    "s = '''\n",
    "0.3631; -0.012039; 3.4913\n",
    "-0.69656; -0.098579; -0.38459; 0.59765\n",
    "'''.strip().split('\\n')\n",
    "ee_pos_vals = list(map(float, s[0].split('; ')))\n",
    "quaternion_vals = list(map(float, s[1].split('; ')))\n",
    "ee_pos_vals, quaternion_vals"
   ]
  },
  {
   "cell_type": "code",
   "execution_count": 4,
   "metadata": {},
   "outputs": [],
   "source": [
    "test_cases = {1:[[[2.16135,-1.42635,1.55109],\n",
    "                  [0.708611,0.186356,-0.157931,0.661967]],\n",
    "                  [1.89451,-1.44302,1.69366],\n",
    "                  [-0.65,0.45,-0.36,0.95,0.79,0.49]],\n",
    "              2:[[[-0.56754,0.93663,3.0038],\n",
    "                  [0.62073, 0.48318,0.38759,0.480629]],\n",
    "                  [-0.638,0.64198,2.9988],\n",
    "                  [-0.79,-0.11,-2.33,1.94,1.14,-3.68]],\n",
    "              3:[[[-1.3863,0.02074,0.90986],\n",
    "                  [0.01735,-0.2179,0.9025,0.371016]],\n",
    "                  [-1.1669,-0.17989,0.85137],\n",
    "                  [-2.99,-0.12,0.94,4.06,1.29,-4.12]],\n",
    "              4:[],\n",
    "              5:[]}\n",
    "ee_pos_vals, quaternion_vals = test_cases[2][0]"
   ]
  },
  {
   "cell_type": "code",
   "execution_count": 5,
   "metadata": {},
   "outputs": [
    {
     "data": {
      "text/plain": [
       "Matrix([\n",
       "[ -0.638024514177],\n",
       "[0.64198594280094],\n",
       "[2.99873479718912]])"
      ]
     },
     "execution_count": 5,
     "metadata": {},
     "output_type": "execute_result"
    }
   ],
   "source": [
    "R_gripper = rot_z(pi) * rot_y(-pi/2)\n",
    "\n",
    "# ee_pos = symbols('ee_x,ee_y,ee_z')\n",
    "quaternion = symbols('qx,qy,qz,qw')\n",
    "constants = {}\n",
    "# T = joinz(quat2mat(quaternion), Matrix(ee_pos))\n",
    "\n",
    "ee_pos = Matrix(ee_pos_vals)\n",
    "T = joinz(quat2mat(quaternion_vals), ee_pos)\n",
    "# Construct homogenous transformaiton matrix based on the data.\n",
    "\n",
    "R0_EE = T[0:3,0:3] * R_gripper\n",
    "v_EE = T[0:3,3]\n",
    "wc_pos = simplify(v_EE - R0_EE*Matrix([0,0,d_ee]))\n",
    "wc_pos"
   ]
  },
  {
   "cell_type": "code",
   "execution_count": 6,
   "metadata": {},
   "outputs": [],
   "source": [
    "xc, yc, zc = wc_pos\n",
    "qq1 = atan2(yc, xc)\n",
    "\n",
    "# q3\n",
    "dd = sqrt(0.054**2 + 1.5**2)\n",
    "dz = d1\n",
    "dx = a[1]\n",
    "s = zc - dz\n",
    "r = sqrt(xc**2 + yc**2) - dx\n",
    "cosbet = (r**2 + s**2 - a[2]**2 - dd**2)/(2*a[2]*dd)\n",
    "sinbet = sqrt(1 - cosbet**2)\n",
    "\n",
    "qq3 = -atan2(cosbet, sinbet) + atan2(-0.054, 1.5) \n",
    "\n",
    "# q2\n",
    "qq2 = -(atan2(s, r) - atan2(a[2] + d4*cosbet, d4*sinbet))\n",
    "\n",
    "# print(qq1, qq2.evalf(), qq3.evalf())"
   ]
  },
  {
   "cell_type": "code",
   "execution_count": 7,
   "metadata": {},
   "outputs": [],
   "source": [
    "#R0_3 = simplify((T0_1 * T1_2 * T2_3)[0:3,0:3]).subs([(q1, qq1), (q2, qq2), (q3, qq3)])\n",
    "T0_3 = T0_1*T1_2*T2_3\n",
    "R0_3 = T0_3[0:3, 0:3].evalf(subs = {q1: qq1, q2: qq2, q3: qq3})\n",
    "R3_EE_given = Transpose(R0_3)*R0_EE*R_gripper\n",
    "\n",
    "sinq5 = sqrt(R3_EE_given[1,1]**2 + R3_EE_given[1, 2]**2)\n",
    "cosq5 = R3_EE_given[1,0]\n",
    "qq5 = atan2(sinq5, cosq5)\n",
    "\n",
    "cosq4 = R3_EE_given[0,0]*-1\n",
    "sinq4 = R3_EE_given[2,0]\n",
    "qq4 = atan2(sinq4, cosq4)\n",
    "\n",
    "cosq6 = R3_EE_given[1, 2] \n",
    "sinq6 = R3_EE_given[1, 1]\n",
    "qq6 = atan2(sinq6, cosq6)\n",
    "\n",
    "# print(qq4,qq5, qq6.evalf())"
   ]
  },
  {
   "cell_type": "code",
   "execution_count": 8,
   "metadata": {},
   "outputs": [
    {
     "data": {
      "text/plain": [
       "Matrix([\n",
       "[  2.35309965924402],\n",
       "[-0.389073094492763],\n",
       "[-0.461667003145883],\n",
       "[ -1.14646866021951],\n",
       "[  1.20331812673337],\n",
       "[  2.45544980510248]])"
      ]
     },
     "execution_count": 8,
     "metadata": {},
     "output_type": "execute_result"
    }
   ],
   "source": [
    "data = dict(\n",
    "  list(zip(ee_pos, ee_pos_vals)) +\n",
    "  list(zip(quaternion, quaternion_vals))\n",
    ")\n",
    "data.update(constants)\n",
    "\n",
    "Matrix([qq1,qq2,qq3,qq4,qq5,qq6]).evalf(subs=data)\n",
    "# (T0_1 * T1_2 * T2_3).subs([(q1, qq1), (q2, qq2), (q3, qq3)]).evalf(subs=data)"
   ]
  },
  {
   "cell_type": "code",
   "execution_count": 9,
   "metadata": {},
   "outputs": [
    {
     "name": "stdout",
     "output_type": "stream",
     "text": [
      "⎡0.529933015681092   0.709291767319263  -0.464839959237866  -0.638351474359571\n",
      "⎢                                                                             \n",
      "⎢-0.533223315301942  0.704915022405621  0.467726102762385   0.642314933045675 \n",
      "⎢                                                                             \n",
      "⎢0.659426944330871           0          0.751768651308666    2.99862024849797 \n",
      "⎢                                                                             \n",
      "⎣        0                   0                  0                   1         \n",
      "\n",
      "⎤\n",
      "⎥\n",
      "⎥\n",
      "⎥\n",
      "⎥\n",
      "⎥\n",
      "⎦\n",
      "⎡ 0.232622159      0.22727465458     0.94563812184   -0.56754⎤\n",
      "⎢                                                            ⎥\n",
      "⎢0.97242263102  -0.0710634820000001  -0.22213020594  0.93663 ⎥\n",
      "⎢                                                            ⎥\n",
      "⎢0.01671684096     0.97123315074     -0.2375372906    3.0038 ⎥\n",
      "⎢                                                            ⎥\n",
      "⎣      0                 0                 0            1    ⎦\n",
      "⎡0.945639281374125   -0.227273549403922  0.232622189963835   -0.56786695080052\n",
      "⎢                                                                             \n",
      "⎢-0.222131354514207  0.0710647976298657  0.972423496157672    0.93695925238145\n",
      "⎢                                                                             \n",
      "⎢-0.237537388349521  -0.971234538244583  0.0167170827873593   3.00368552458254\n",
      "⎢                                                                             \n",
      "⎣        0                   0                   0                   1        \n",
      "\n",
      "9⎤\n",
      " ⎥\n",
      " ⎥\n",
      " ⎥\n",
      " ⎥\n",
      " ⎥\n",
      " ⎦\n"
     ]
    }
   ],
   "source": [
    "data={}\n",
    "# pprint(t03)\n",
    "# pprint(simplify(t03 * T3_4_sym.subs(constants)))\n",
    "pprint((T0_1 * T1_2 * T2_3 * T3_4).subs([(q1, qq1), (q2, qq2), (q3, qq3), (q4, 0)]))\n",
    "pprint(T)\n",
    "pprint((T0_1 * T1_2 * T2_3 * T3_4 * T4_5 * T5_6 * T6_EE).subs([(q1, qq1), (q2, qq2), (q3, qq3), (q4, qq4), (q5, qq5), (q6, qq6)]))"
   ]
  },
  {
   "cell_type": "code",
   "execution_count": null,
   "metadata": {
    "scrolled": true
   },
   "outputs": [],
   "source": [
    "T3_EE = simplify(T3_4*T4_5*T5_6*T6_EE)\n",
    "R3_EE = T3_EE[0:3, 0:3]\n",
    "pprint(simplify(R3_EE*R_gripper))\n",
    "#pprint(simplify(sqrt(R3_EE[0,2]**2 + R3_EE[2, 2]**2)))"
   ]
  },
  {
   "cell_type": "code",
   "execution_count": null,
   "metadata": {},
   "outputs": [],
   "source": [
    "atan2(yc, xc).evalf(subs=data)"
   ]
  },
  {
   "cell_type": "code",
   "execution_count": null,
   "metadata": {},
   "outputs": [],
   "source": [
    "qs = Matrix([qq1,qq2,qq3,qq4,qq5,qq6]).evalf(subs=data)\n",
    "dd = dict(zip([q1,q2,q3,q4,q5,q6], qs))\n",
    "dd.update(constants)\n",
    "mat.evalf(subs=dd)"
   ]
  },
  {
   "cell_type": "code",
   "execution_count": null,
   "metadata": {},
   "outputs": [],
   "source": []
  }
 ],
 "metadata": {
  "kernelspec": {
   "display_name": "Python [conda env:RoboND]",
   "language": "python",
   "name": "conda-env-RoboND-py"
  },
  "language_info": {
   "codemirror_mode": {
    "name": "ipython",
    "version": 3
   },
   "file_extension": ".py",
   "mimetype": "text/x-python",
   "name": "python",
   "nbconvert_exporter": "python",
   "pygments_lexer": "ipython3",
   "version": "3.5.2"
  },
  "widgets": {
   "state": {},
   "version": "1.1.2"
  }
 },
 "nbformat": 4,
 "nbformat_minor": 2
}
