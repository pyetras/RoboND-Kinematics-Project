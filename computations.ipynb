{
 "cells": [
  {
   "cell_type": "code",
   "execution_count": 1,
   "metadata": {},
   "outputs": [],
   "source": [
    "from sympy import symbols, sin, cos, pi, pprint, simplify, atan2, sqrt, atan\n",
    "from sympy.matrices import Matrix, Transpose\n",
    "from IPython.display import display\n",
    "import ipywidgets as widgets\n",
    "from functools import reduce\n",
    "import numpy as np\n",
    "from importlib import reload"
   ]
  },
  {
   "cell_type": "code",
   "execution_count": 88,
   "metadata": {},
   "outputs": [
    {
     "name": "stdout",
     "output_type": "stream",
     "text": [
      "⎡2.02533494891272 ⎤\n",
      "⎢                 ⎥\n",
      "⎢0.943523143291935⎥\n",
      "⎢                 ⎥\n",
      "⎣1.32683447169753 ⎦\n",
      "⎡2.02533494891273 ⎤\n",
      "⎢                 ⎥\n",
      "⎢0.943523143291935⎥\n",
      "⎢                 ⎥\n",
      "⎣1.32683447169753 ⎦\n"
     ]
    }
   ],
   "source": [
    "import kuka_arm.scripts.inverse_kinematics as ik\n",
    "reload(ik)\n",
    "\n",
    "test_cases = {1:[[[2.16135,-1.42635,1.55109],\n",
    "                  [0.708611,0.186356,-0.157931,0.661967]],\n",
    "                  [1.89451,-1.44302,1.69366],\n",
    "                  [-0.65,0.45,-0.36,0.95,0.79,0.49]],\n",
    "              2:[[[-0.56754,0.93663,3.0038],\n",
    "                  [0.62073, 0.48318,0.38759,0.480629]],\n",
    "                  [-0.638,0.64198,2.9988],\n",
    "                  [-0.79,-0.11,-2.33,1.94,1.14,-3.68]],\n",
    "              3:[[[-1.3863,0.02074,0.90986],\n",
    "                  [0.01735,-0.2179,0.9025,0.371016]],\n",
    "                  [-1.1669,-0.17989,0.85137],\n",
    "                  [-2.99,-0.12,0.94,4.06,1.29,-4.12]],\n",
    "              4:[[[2.025334948912725, 0.9435231432919353, 1.3268344716975315], [-0.08137147213675607, -0.16717652116184525, 0.10456194492167763, 0.9769838760024222]],[1.74589694978219,0.873373350569398,1.23301330552001],[0,0,0,0,0,0]],\n",
    "              5:[]}\n",
    "\n",
    "# for thetas in ik.SolveIKLimits(*test_cases[4][0]):\n",
    "#   pprint(thetas)\n",
    "#   pprint(ik.SolveFK(thetas))\n",
    "\n",
    "for thetas in ik.SolveIK(*test_cases[4][0], debug = False):\n",
    "  pprint(ik.SolveFK(thetas))\n"
   ]
  },
  {
   "cell_type": "code",
   "execution_count": 89,
   "metadata": {},
   "outputs": [
    {
     "name": "stdout",
     "output_type": "stream",
     "text": [
      "34.6 ms ± 2.55 ms per loop (mean ± std. dev. of 7 runs, 10 loops each)\n"
     ]
    }
   ],
   "source": [
    "%timeit ik.SolveIKCheapest([0]*6, *test_cases[3][0])"
   ]
  },
  {
   "cell_type": "markdown",
   "metadata": {},
   "source": [
    "## Forward Kinematics Playground"
   ]
  },
  {
   "cell_type": "code",
   "execution_count": 16,
   "metadata": {},
   "outputs": [
    {
     "name": "stdout",
     "output_type": "stream",
     "text": [
      "⎡2.5365e-6  -0.0015927     -1.0      -2.153 ⎤\n",
      "⎢                                           ⎥\n",
      "⎢0.0015927     -1.0     0.0015927   0.003429⎥\n",
      "⎢                                           ⎥\n",
      "⎢  -1.0     -0.0015927  1.7694e-16   1.946  ⎥\n",
      "⎢                                           ⎥\n",
      "⎣    0          0           0         1.0   ⎦\n"
     ]
    }
   ],
   "source": [
    "T0_1,T1_2,T2_3,T3_4,T4_5,T5_6,T6_EE = ik.DHMatrices()\n",
    "def e(q11, q22, q33, q44, q55, q66, joints):\n",
    "  from kuka_arm.scripts.inverse_kinematics import q1,q2,q3,q4,q5,q6\n",
    "  mat = reduce(lambda acc, M: acc * M, [T1_2,T2_3,T3_4,T4_5,T5_6,T6_EE][:(joints-1)], T0_1)\n",
    "  return pprint(mat.evalf(subs={q1: q11, q2: q22, q3: q33, q4: q44, q5: q55, q6: q66}, prec = 5))\n",
    "\n",
    "spec = (-3.14,3.14,0.01)\n",
    "widgets.interact(e, q11=spec, q22=spec, q33=spec, q44=spec, q55=spec, q66=spec, joints=(2,7))"
   ]
  },
  {
   "cell_type": "markdown",
   "metadata": {},
   "source": [
    "### R3_EE Matrix (symbols)"
   ]
  },
  {
   "cell_type": "code",
   "execution_count": 26,
   "metadata": {
    "scrolled": true
   },
   "outputs": [
    {
     "name": "stdout",
     "output_type": "stream",
     "text": [
      "⎡-sin(q₄)⋅sin(q₆) + cos(q₄)⋅cos(q₅)⋅cos(q₆)  -sin(q₄)⋅cos(q₆) - sin(q₆)⋅cos(q₄\n",
      "⎢                                                                             \n",
      "⎢             sin(q₅)⋅cos(q₆)                             -sin(q₅)⋅sin(q₆)    \n",
      "⎢                                                                             \n",
      "⎣-sin(q₄)⋅cos(q₅)⋅cos(q₆) - sin(q₆)⋅cos(q₄)  sin(q₄)⋅sin(q₆)⋅cos(q₅) - cos(q₄)\n",
      "\n",
      ")⋅cos(q₅)  -sin(q₅)⋅cos(q₄)⎤\n",
      "                           ⎥\n",
      "               cos(q₅)     ⎥\n",
      "                           ⎥\n",
      "⋅cos(q₆)   sin(q₄)⋅sin(q₅) ⎦\n"
     ]
    }
   ],
   "source": [
    "T3_EE = simplify(T3_4*T4_5*T5_6*T6_EE)\n",
    "R3_EE = T3_EE[0:3, 0:3]\n",
    "pprint(simplify(R3_EE))\n",
    "#pprint(simplify(sqrt(R3_EE[0,2]**2 + R3_EE[2, 2]**2)))"
   ]
  },
  {
   "cell_type": "markdown",
   "metadata": {},
   "source": [
    "## Symbolic computations (abandoned)"
   ]
  },
  {
   "cell_type": "code",
   "execution_count": null,
   "metadata": {},
   "outputs": [],
   "source": [
    "def DHTransform(alpha, a, q, d):\n",
    "  return Matrix([\n",
    "    [cos(q),            -sin(q),           0,           a],\n",
    "    [sin(q)*cos(alpha), cos(q)*cos(alpha), -sin(alpha), -sin(alpha)*d],\n",
    "    [sin(q)*sin(alpha), cos(q)*sin(alpha), cos(alpha),  cos(alpha)*d ],\n",
    "    [0,                 0,                 0,           1            ]])\n",
    "\n",
    "q1, q2, q3, q4, q5, q6 = symbols('q1:7')\n",
    "alpha = [0, -pi/2, 0, -pi/2, pi/2, -pi/2, 0]\n",
    "a = symbols('a0:7')\n",
    "d1, d2, d3, d4, d5, d6, d_ee = symbols('d1:7,d_ee')\n",
    "\n",
    "constants = dict(\n",
    "  list(zip(a, [0, 0.35, 1.25, -0.054, 0, 0, 0])) +\n",
    "  list(zip([d1, d2, d3, d4, d5, d6, d_ee], [0.75, 0, 0, 1.5, 0, 0, 0.303])))\n",
    "\n",
    "T0_1 = DHTransform(alpha[0], a[0], q1, d1)\n",
    "T1_2 = DHTransform(alpha[1], a[1], q2 - pi/2, d2)\n",
    "T2_3 = DHTransform(alpha[2], a[2], q3, d3)\n",
    "T3_4 = DHTransform(alpha[3], a[3], q4, d4)\n",
    "T4_5 = DHTransform(alpha[4], a[4], q5, d5)\n",
    "T5_6 = DHTransform(alpha[5], a[5], q6, d6)\n",
    "T6_EE = DHTransform(alpha[6], a[6], 0, d_ee)\n",
    "\n",
    "# def e(q11, q22, q33, q44, q55, q66):\n",
    "#   subs = {q1: q11, q2: q22, q3: q33, q4: q44, q5: q55, q6: q66}\n",
    "#   subs.update(constants)\n",
    "#   return pprint(mat.evalf(subs=subs, prec = 5))\n",
    "\n",
    "# spec = (-3.14,3.14,0.01)\n",
    "# widgets.interact(e, q11=spec, q22=spec, q33=spec, q44=spec, q55=spec, q66=spec)"
   ]
  },
  {
   "cell_type": "code",
   "execution_count": null,
   "metadata": {
    "scrolled": true
   },
   "outputs": [],
   "source": [
    "mat = reduce(lambda acc, M: simplify(acc * M), [T0_1,T1_2,T2_3,T3_4,T4_5,T5_6,T6_EE])\n",
    "subs = {q1: 2.86, q2: 0, q3: 0, q4:0 , q5: 0, q6: 0}\n",
    "subs.update(constants)\n",
    "mat.evalf(subs=subs, prec = 5)"
   ]
  },
  {
   "cell_type": "code",
   "execution_count": 88,
   "metadata": {},
   "outputs": [
    {
     "data": {
      "text/plain": [
       "([0.3631, -0.012039, 3.4913], [-0.69656, -0.098579, -0.38459, 0.59765])"
      ]
     },
     "execution_count": 88,
     "metadata": {},
     "output_type": "execute_result"
    }
   ],
   "source": [
    "s = '''\n",
    "0.3631; -0.012039; 3.4913\n",
    "-0.69656; -0.098579; -0.38459; 0.59765\n",
    "'''.strip().split('\\n')\n",
    "ee_pos_vals = list(map(float, s[0].split('; ')))\n",
    "quaternion_vals = list(map(float, s[1].split('; ')))\n",
    "ee_pos_vals, quaternion_vals"
   ]
  }
 ],
 "metadata": {
  "kernelspec": {
   "display_name": "Python [conda env:RoboND]",
   "language": "python",
   "name": "conda-env-RoboND-py"
  },
  "language_info": {
   "codemirror_mode": {
    "name": "ipython",
    "version": 3
   },
   "file_extension": ".py",
   "mimetype": "text/x-python",
   "name": "python",
   "nbconvert_exporter": "python",
   "pygments_lexer": "ipython3",
   "version": "3.5.2"
  },
  "widgets": {
   "state": {},
   "version": "1.1.2"
  }
 },
 "nbformat": 4,
 "nbformat_minor": 2
}
