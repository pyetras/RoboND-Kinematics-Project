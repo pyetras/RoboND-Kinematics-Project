{
 "cells": [
  {
   "cell_type": "code",
   "execution_count": 93,
   "metadata": {},
   "outputs": [],
   "source": [
    "from sympy import symbols, sin, cos, pi, pprint, simplify, atan2, sqrt, atan, latex\n",
    "from sympy.matrices import Matrix, Transpose\n",
    "from IPython.display import display\n",
    "import ipywidgets as widgets\n",
    "from functools import reduce\n",
    "import numpy as np\n",
    "from importlib import reload\n",
    "import kuka_arm.scripts.inverse_kinematics as ik"
   ]
  },
  {
   "cell_type": "code",
   "execution_count": null,
   "metadata": {},
   "outputs": [],
   "source": [
    "import kuka_arm.scripts.inverse_kinematics as ik\n",
    "reload(ik)\n",
    "\n",
    "test_cases = {1:[[[2.16135,-1.42635,1.55109],\n",
    "                  [0.708611,0.186356,-0.157931,0.661967]],\n",
    "                  [1.89451,-1.44302,1.69366],\n",
    "                  [-0.65,0.45,-0.36,0.95,0.79,0.49]],\n",
    "              2:[[[-0.56754,0.93663,3.0038],\n",
    "                  [0.62073, 0.48318,0.38759,0.480629]],\n",
    "                  [-0.638,0.64198,2.9988],\n",
    "                  [-0.79,-0.11,-2.33,1.94,1.14,-3.68]],\n",
    "              3:[[[-1.3863,0.02074,0.90986],\n",
    "                  [0.01735,-0.2179,0.9025,0.371016]],\n",
    "                  [-1.1669,-0.17989,0.85137],\n",
    "                  [-2.99,-0.12,0.94,4.06,1.29,-4.12]],\n",
    "              4:[[[2.025334948912725, 0.9435231432919353, 1.3268344716975315], [-0.08137147213675607, -0.16717652116184525, 0.10456194492167763, 0.9769838760024222]],[1.74589694978219,0.873373350569398,1.23301330552001],[0,0,0,0,0,0]],\n",
    "              5:[]}\n",
    "\n",
    "# for thetas in ik.SolveIKLimits(*test_cases[4][0]):\n",
    "#   pprint(thetas)\n",
    "#   pprint(ik.SolveFK(thetas))\n",
    "\n",
    "for thetas in ik.SolveIK(*test_cases[4][0], debug = False):\n",
    "∏  pprint(ik.SolveFK(thetas))\n"
   ]
  },
  {
   "cell_type": "code",
   "execution_count": 125,
   "metadata": {},
   "outputs": [
    {
     "name": "stdout",
     "output_type": "stream",
     "text": [
      "58.5 ms ± 7.49 ms per loop (mean ± std. dev. of 7 runs, 10 loops each)\n"
     ]
    }
   ],
   "source": [
    "%timeit ik.SolveIKCheapest([0]*6, *test_cases[3][0])"
   ]
  },
  {
   "cell_type": "markdown",
   "metadata": {},
   "source": [
    "## Latex Printout"
   ]
  },
  {
   "cell_type": "code",
   "execution_count": null,
   "metadata": {},
   "outputs": [],
   "source": [
    "for name, matrix in zip('T0_1,T1_2,T2_3,T3_4,T4_5,T5_6,T6_EE'.split(','), ik.DHMatrices()):\n",
    "  name = name[0] + '^' + name[1:]\n",
    "  print(name + ' = ' + latex(matrix) + '\\\\\\\\')"
   ]
  },
  {
   "cell_type": "code",
   "execution_count": 99,
   "metadata": {},
   "outputs": [
    {
     "name": "stdout",
     "output_type": "stream",
     "text": [
      "\\left[\\begin{matrix}\\sin{\\left (r_{x} \\right )} \\sin{\\left (r_{z} \\right )} + \\sin{\\left (r_{y} \\right )} \\cos{\\left (r_{x} \\right )} \\cos{\\left (r_{z} \\right )} & - \\sin{\\left (r_{x} \\right )} \\sin{\\left (r_{y} \\right )} \\cos{\\left (r_{z} \\right )} + \\sin{\\left (r_{z} \\right )} \\cos{\\left (r_{x} \\right )} & \\cos{\\left (r_{y} \\right )} \\cos{\\left (r_{z} \\right )}\\\\- \\sin{\\left (r_{x} \\right )} \\cos{\\left (r_{z} \\right )} + \\sin{\\left (r_{y} \\right )} \\sin{\\left (r_{z} \\right )} \\cos{\\left (r_{x} \\right )} & - \\sin{\\left (r_{x} \\right )} \\sin{\\left (r_{y} \\right )} \\sin{\\left (r_{z} \\right )} - \\cos{\\left (r_{x} \\right )} \\cos{\\left (r_{z} \\right )} & \\sin{\\left (r_{z} \\right )} \\cos{\\left (r_{y} \\right )}\\\\\\cos{\\left (r_{x} \\right )} \\cos{\\left (r_{y} \\right )} & - \\sin{\\left (r_{x} \\right )} \\cos{\\left (r_{y} \\right )} & - \\sin{\\left (r_{y} \\right )}\\end{matrix}\\right]\n",
      "\\left[\\begin{matrix}e_{x}\\\\e_{y}\\\\e_{z}\\end{matrix}\\right]\n"
     ]
    }
   ],
   "source": [
    "ee_pos = Matrix(symbols('e_x,e_y,e_z'))\n",
    "r_z, r_y, r_x = symbols('r_z, r_y, r_x')\n",
    "R = ik.rot_z(r_z) * ik.rot_y(r_y) * ik.rot_x(r_x) * ik.R_gripper\n",
    "T = ee_pos\n",
    "print(latex(simplify(R)))\n",
    "print(latex(Matrix(T)))"
   ]
  },
  {
   "cell_type": "markdown",
   "metadata": {},
   "source": [
    "## Forward Kinematics Playground"
   ]
  },
  {
   "cell_type": "code",
   "execution_count": 45,
   "metadata": {
    "scrolled": true
   },
   "outputs": [
    {
     "name": "stdout",
     "output_type": "stream",
     "text": [
      "\\left[\\begin{matrix}- \\sin{\\left (q_{4} \\right )} \\sin{\\left (q_{6} \\right )} + \\cos{\\left (q_{4} \\right )} \\cos{\\left (q_{5} \\right )} \\cos{\\left (q_{6} \\right )} & - \\sin{\\left (q_{4} \\right )} \\cos{\\left (q_{6} \\right )} - \\sin{\\left (q_{6} \\right )} \\cos{\\left (q_{4} \\right )} \\cos{\\left (q_{5} \\right )} & - \\sin{\\left (q_{5} \\right )} \\cos{\\left (q_{4} \\right )}\\\\\\sin{\\left (q_{5} \\right )} \\cos{\\left (q_{6} \\right )} & - \\sin{\\left (q_{5} \\right )} \\sin{\\left (q_{6} \\right )} & \\cos{\\left (q_{5} \\right )}\\\\- \\sin{\\left (q_{4} \\right )} \\cos{\\left (q_{5} \\right )} \\cos{\\left (q_{6} \\right )} - \\sin{\\left (q_{6} \\right )} \\cos{\\left (q_{4} \\right )} & \\sin{\\left (q_{4} \\right )} \\sin{\\left (q_{6} \\right )} \\cos{\\left (q_{5} \\right )} - \\cos{\\left (q_{4} \\right )} \\cos{\\left (q_{6} \\right )} & \\sin{\\left (q_{4} \\right )} \\sin{\\left (q_{5} \\right )}\\end{matrix}\\right]\n"
     ]
    }
   ],
   "source": [
    "T3_EE = simplify(T3_4*T4_5*T5_6*T6_EE)\n",
    "R3_EE = T3_EE[0:3, 0:3]\n",
    "print(latex(simplify(R3_EE)))\n",
    "#pprint(simplify(sqrt(R3_EE[0,2]**2 + R3_EE[2, 2]**2)))"
   ]
  },
  {
   "cell_type": "code",
   "execution_count": 184,
   "metadata": {},
   "outputs": [
    {
     "name": "stdout",
     "output_type": "stream",
     "text": [
      "⎡-1.1796e-16  -5.8981e-17      1.0         1.85    ⎤\n",
      "⎢                                                  ⎥\n",
      "⎢5.8981e-17      -1.0      -5.8981e-17  -1.0911e-16⎥\n",
      "⎢                                                  ⎥\n",
      "⎢    1.0      5.8981e-17   1.1796e-16      1.946   ⎥\n",
      "⎢                                                  ⎥\n",
      "⎣     0            0            0           1.0    ⎦\n"
     ]
    },
    {
     "data": {
      "text/plain": [
       "<function __main__.e>"
      ]
     },
     "execution_count": 184,
     "metadata": {},
     "output_type": "execute_result"
    }
   ],
   "source": [
    "T0_1,T1_2,T2_3,T3_4,T4_5,T5_6,T6_EE = ik.DHMatrices()\n",
    "def e(q11, q22, q33, q44, q55, q66, joints):\n",
    "  from kuka_arm.scripts.inverse_kinematics import q1,q2,q3,q4,q5,q6\n",
    "  mat = reduce(lambda acc, M: acc * M, [T1_2,T2_3,T3_4,T4_5,T5_6,T6_EE][:(joints-1)], T0_1)\n",
    "  return pprint(mat.evalf(subs={q1: q11, q2: q22, q3: q33, q4: q44, q5: q55, q6: q66}, prec = 5))\n",
    "\n",
    "spec = (-3.14,3.14,0.01)\n",
    "widgets.interact(e, q11=spec, q22=spec, q33=spec, q44=spec, q55=spec, q66=spec, joints=(2,7))"
   ]
  },
  {
   "cell_type": "markdown",
   "metadata": {},
   "source": [
    "### IK error"
   ]
  },
  {
   "cell_type": "code",
   "execution_count": 166,
   "metadata": {},
   "outputs": [],
   "source": [
    "data = np.loadtxt('data/queries_2018_02_06_12_48_09_439.csv', delimiter=',')"
   ]
  },
  {
   "cell_type": "code",
   "execution_count": 183,
   "metadata": {},
   "outputs": [
    {
     "name": "stdout",
     "output_type": "stream",
     "text": [
      "[5.69311939016356e-7 0.00331166651808493 4.49653055659255e-5]\n",
      "[0.00734727528747969 0.0681212544755690 0.0111652637167001]\n",
      "[0.00771062169755599 0.0681330282123308 0.0115230669871469]\n",
      "[0.00771348313849485 0.0681495959650390 0.0115165480744319]\n",
      "[0.00771457325986047 0.0681712102712771 0.0115043437540971]\n",
      "[0.00872386445852591 0.0820324814837724 0.0129653940115335]\n",
      "[0.00872512804032910 0.0820697529859466 0.0129381296301561]\n",
      "[0.0106276007993227 0.102752450436032 0.0156962779623542]\n",
      "[0.0106451297696570 0.102801834428822 0.0156488740009273]\n",
      "[0.0144840784213738 0.144114972595036 0.0211274132976342]\n",
      "[0.0145632073671003 0.144089238607604 0.0210238443404736]\n",
      "[0.0125476215790470 0.125583878543757 0.0178983901784449]\n",
      "[0.0126568825983950 0.125200403997570 0.0178371746650212]\n",
      "[0.00452965073108613 0.0471569963061460 0.00635879773049242]\n",
      "[0.00455040022770925 0.0467870969551323 0.00639398457902329]\n",
      "[0.000334914281948429 0.0214398736229178 0.000887575557461329]\n",
      "[0.000373330504439995 0.0190616843674587 0.00120561304662337]\n",
      "[0.000521408224078979 0.0254424581774721 0.00436818738425737]\n",
      "[0.00106486316927867 0.00883773741918992 0.00900113802275149]\n",
      "[0.00502976737870453 0.0956693556264863 0.00449938673505290]\n",
      "[0.00370092700231384 0.108137966664586 0.00441143797525712]\n",
      "[0.0152066224398384 0.198519917471946 0.0255138485547923]\n",
      "[0.0152301083612758 0.196652509659250 0.0317571213577281]\n",
      "[0.0299551245265994 0.236820297326370 0.0605378196201238]\n",
      "[0.0688111816438344 0.232783517365469 0.104041830366810]\n",
      "0.00000\n"
     ]
    }
   ],
   "source": [
    "reload(ik)\n",
    "errors = []\n",
    "for row in data:\n",
    "  ee_pos = np.array(row[0:3])\n",
    "  quaternion = row[3:7]\n",
    "  prev_thetas = row[7:13]\n",
    "  thetas = ik.SolveIKCheapest(prev_thetas, ee_pos, quaternion)\n",
    "  print(np.abs(prev_thetas - np.array(thetas).reshape((1, -1)))[0, 3:])\n",
    "#   print(np.abs(prev_thetas - np.array(thetas).reshape(1, -1)))\n",
    "  computed_pos = np.array(ik.SolveFK(thetas))\n",
    "  computed_pos = computed_pos.reshape((1,-1))\n",
    "  error = np.sqrt(np.double(np.sum(np.power(ee_pos - computed_pos, 2))))\n",
    "  errors.append(error)\n",
    "\n",
    "print('%.5f'%np.average(errors))"
   ]
  },
  {
   "cell_type": "code",
   "execution_count": null,
   "metadata": {},
   "outputs": [],
   "source": [
    "reload(ik)\n",
    "row = data[0]\n",
    "ee_pos = np.array(row[0:3])\n",
    "quaternion = row[3:7]\n",
    "prev_thetas = row[7:13]\n",
    "for thetas in ik.SolveIKLimits(ee_pos, quaternion):\n",
    "  print(np.abs(prev_thetas - np.array(thetas).reshape((1, -1)))[0, 3:])"
   ]
  }
 ],
 "metadata": {
  "kernelspec": {
   "display_name": "Python [conda env:RoboND]",
   "language": "python",
   "name": "conda-env-RoboND-py"
  },
  "language_info": {
   "codemirror_mode": {
    "name": "ipython",
    "version": 3
   },
   "file_extension": ".py",
   "mimetype": "text/x-python",
   "name": "python",
   "nbconvert_exporter": "python",
   "pygments_lexer": "ipython3",
   "version": "3.5.2"
  },
  "widgets": {
   "state": {
    "004ca8c75083439da75dc6ede7366bb3": {
     "views": []
    },
    "01de566dccdb4b2faf965b2fb2918ebc": {
     "views": []
    },
    "074e3f8ce3494994a584e5d831940665": {
     "views": []
    },
    "116fd2533708453694496b0add33f80c": {
     "views": []
    },
    "13c80394ee1f48c6a50bc2e5f6ae7430": {
     "views": []
    },
    "1471b896ca5b4fb6906f451d26cb1981": {
     "views": []
    },
    "2c44381850d94d3e83940f4257b4c23a": {
     "views": []
    },
    "2d8604126e0b42ff9b50f01b7e3942df": {
     "views": []
    },
    "343154601596453eba9427b13c73c877": {
     "views": []
    },
    "3a19de8cc08949e6b7b754cafbb4af9e": {
     "views": []
    },
    "46ea908db0684b619fe1a191ccae86e9": {
     "views": []
    },
    "59b45f8e513e493ab78f84e2ec08c1f4": {
     "views": []
    },
    "67e4b56c113d403c9bbd276652586288": {
     "views": [
      {
       "cell_index": 8
      }
     ]
    },
    "861770c9897146d5922b2c1dc7bb153d": {
     "views": []
    },
    "bac6aa48e40746579ec797e9e1618ade": {
     "views": []
    },
    "fc5196bf295e4399b82f5932537d7cf3": {
     "views": []
    }
   },
   "version": "1.1.2"
  }
 },
 "nbformat": 4,
 "nbformat_minor": 2
}
